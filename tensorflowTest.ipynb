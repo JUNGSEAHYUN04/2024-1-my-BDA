{
  "nbformat": 4,
  "nbformat_minor": 0,
  "metadata": {
    "colab": {
      "provenance": [],
      "authorship_tag": "ABX9TyPrNaI3r3VwvAO9YvUdry0N",
      "include_colab_link": true
    },
    "kernelspec": {
      "name": "python3",
      "display_name": "Python 3"
    },
    "language_info": {
      "name": "python"
    }
  },
  "cells": [
    {
      "cell_type": "markdown",
      "metadata": {
        "id": "view-in-github",
        "colab_type": "text"
      },
      "source": [
        "<a href=\"https://colab.research.google.com/github/JUNGSEAHYUN04/2024-1-my-BDA/blob/main/tensorflowTest.ipynb\" target=\"_parent\"><img src=\"https://colab.research.google.com/assets/colab-badge.svg\" alt=\"Open In Colab\"/></a>"
      ]
    },
    {
      "cell_type": "code",
      "execution_count": 4,
      "metadata": {
        "colab": {
          "base_uri": "https://localhost:8080/",
          "height": 216
        },
        "id": "JT57KUK_eZZG",
        "outputId": "8b619d06-6bf2-44fe-8570-f3a7eddf5cd4"
      },
      "outputs": [
        {
          "output_type": "error",
          "ename": "AttributeError",
          "evalue": "module 'tensorflow' has no attribute 'Session'",
          "traceback": [
            "\u001b[0;31m---------------------------------------------------------------------------\u001b[0m",
            "\u001b[0;31mAttributeError\u001b[0m                            Traceback (most recent call last)",
            "\u001b[0;32m<ipython-input-4-a88062a58c98>\u001b[0m in \u001b[0;36m<cell line: 7>\u001b[0;34m()\u001b[0m\n\u001b[1;32m      5\u001b[0m \u001b[0mx\u001b[0m \u001b[0;34m=\u001b[0m \u001b[0mtf\u001b[0m\u001b[0;34m.\u001b[0m\u001b[0madd\u001b[0m\u001b[0;34m(\u001b[0m\u001b[0ma\u001b[0m\u001b[0;34m,\u001b[0m\u001b[0mb\u001b[0m\u001b[0;34m,\u001b[0m\u001b[0mname\u001b[0m \u001b[0;34m=\u001b[0m\u001b[0;34m\"tb_x\"\u001b[0m\u001b[0;34m)\u001b[0m\u001b[0;34m\u001b[0m\u001b[0;34m\u001b[0m\u001b[0m\n\u001b[1;32m      6\u001b[0m \u001b[0;34m\u001b[0m\u001b[0m\n\u001b[0;32m----> 7\u001b[0;31m \u001b[0;32mwith\u001b[0m \u001b[0mtf\u001b[0m\u001b[0;34m.\u001b[0m\u001b[0mSession\u001b[0m\u001b[0;34m(\u001b[0m\u001b[0;34m)\u001b[0m \u001b[0;32mas\u001b[0m \u001b[0msess\u001b[0m\u001b[0;34m:\u001b[0m\u001b[0;34m\u001b[0m\u001b[0;34m\u001b[0m\u001b[0m\n\u001b[0m\u001b[1;32m      8\u001b[0m   \u001b[0mwriter\u001b[0m \u001b[0;34m=\u001b[0m \u001b[0mtf\u001b[0m\u001b[0;34m.\u001b[0m\u001b[0msummary\u001b[0m\u001b[0;34m.\u001b[0m\u001b[0mFileWriter\u001b[0m\u001b[0;34m(\u001b[0m\u001b[0;34m'./graphs'\u001b[0m\u001b[0;34m,\u001b[0m\u001b[0msess\u001b[0m\u001b[0;34m.\u001b[0m\u001b[0mgraph\u001b[0m\u001b[0;34m)\u001b[0m\u001b[0;34m\u001b[0m\u001b[0;34m\u001b[0m\u001b[0m\n\u001b[1;32m      9\u001b[0m   \u001b[0mprint\u001b[0m\u001b[0;34m(\u001b[0m\u001b[0msess\u001b[0m\u001b[0;34m.\u001b[0m\u001b[0mrun\u001b[0m\u001b[0;34m(\u001b[0m\u001b[0mx\u001b[0m\u001b[0;34m)\u001b[0m\u001b[0;34m)\u001b[0m\u001b[0;34m\u001b[0m\u001b[0;34m\u001b[0m\u001b[0m\n",
            "\u001b[0;31mAttributeError\u001b[0m: module 'tensorflow' has no attribute 'Session'"
          ]
        }
      ],
      "source": [
        "import tensorflow as tf\n",
        "\n",
        "a = tf.constant(2, name = \"tb_a\")\n",
        "b = tf.constant(3,name=\"tb_b\")\n",
        "x = tf.add(a,b,name =\"tb_x\")\n",
        "\n",
        "with tf.Session() as sess:\n",
        "  writer = tf.summary.FileWriter('./graphs',sess.graph)\n",
        "  print(sess.run(x))\n",
        "writer.close()\n",
        "\n",
        "\n"
      ]
    },
    {
      "cell_type": "code",
      "source": [
        "import tensorflow as tf\n",
        "print(tf.__version__)"
      ],
      "metadata": {
        "colab": {
          "base_uri": "https://localhost:8080/"
        },
        "id": "kFE-D3pijHe4",
        "outputId": "aa23fb9e-dd1a-4d40-e560-1f6500f042c1"
      },
      "execution_count": 6,
      "outputs": [
        {
          "output_type": "stream",
          "name": "stdout",
          "text": [
            "2.15.0\n"
          ]
        }
      ]
    },
    {
      "cell_type": "code",
      "source": [
        "import tensorflow.compat.v1 as tf\n",
        "tf.disable_v2_behavior()\n",
        "\n",
        "a = tf.placeholder(tf.float32, shape=[3], name='a')\n",
        "b = tf.constant([5,5,5],tf.float32,name=\"b\")\n",
        "c=tf.add(a,b)\n",
        "init = tf.global_variables_initializer()\n",
        "with tf.Session() as sess:\n",
        "  sess.run(init)\n",
        "  writer = tf.summary.FileWriter('./graphs',sess.graph)\n",
        "  print(sess.run(c, feed_dict={a:[1,2,3]}))\n",
        "\n"
      ],
      "metadata": {
        "colab": {
          "base_uri": "https://localhost:8080/"
        },
        "id": "W4870A33mNsd",
        "outputId": "1042eeb5-f88b-4fec-b1df-9bfd6b14a6b2"
      },
      "execution_count": 11,
      "outputs": [
        {
          "output_type": "stream",
          "name": "stdout",
          "text": [
            "[6. 7. 8.]\n"
          ]
        }
      ]
    },
    {
      "cell_type": "code",
      "source": [],
      "metadata": {
        "id": "FhcCClqCod0Z"
      },
      "execution_count": null,
      "outputs": []
    },
    {
      "cell_type": "code",
      "source": [
        "import tensorflow.compat.v1 as tf\n",
        "tf.disable_v2_behavior()\n",
        "\n",
        "a = tf.placeholder(tf.int32)\n",
        "b = tf.placeholder(tf.int32)\n",
        "c=tf.add(a,b)\n",
        "\n",
        "init = tf.global_variables_initializer()\n",
        "\n",
        "with tf.Session() as sess:\n",
        "  sess.run(init)\n",
        "  writer = tf.summary.FileWriter('./graphs',sess.graph)\n",
        "  print(sess.run(c, feed_dict={a:[[1,2,3],[1,2,3],[1,2,3]], b:[[1,2,3],[1,2,3],[1,2,3]]}))"
      ],
      "metadata": {
        "colab": {
          "base_uri": "https://localhost:8080/"
        },
        "id": "YNdAbFatocnL",
        "outputId": "d640effe-59e3-4d1b-8d5b-132cf8e3acd5"
      },
      "execution_count": 26,
      "outputs": [
        {
          "output_type": "stream",
          "name": "stdout",
          "text": [
            "[[2 4 6]\n",
            " [2 4 6]\n",
            " [2 4 6]]\n"
          ]
        }
      ]
    },
    {
      "cell_type": "code",
      "source": [
        "tf.disable_v2_behavior()\n",
        "\n",
        "a = tf.placeholder(tf.int32)\n",
        "b = tf.placeholder(tf.int32)\n",
        "c=tf.add(a,b)\n",
        "d= tf.subtract(a,b)\n",
        "e= tf.multiply(a,b)\n",
        "f = tf.divide(a,b)\n",
        "init = tf.global_variables_initializer()\n",
        "\n",
        "with tf.Session() as sess:\n",
        "  sess.run(init)\n",
        "  writer = tf.summary.FileWriter('./graphs',sess.graph)\n",
        "  print('a+b =')\n",
        "  print(sess.run(c, feed_dict={a:[[1,2,3],[1,2,3],[1,2,3]], b:[[1,2,3],[1,2,3],[1,2,3]]}))\n",
        "  print()\n",
        "  print('a-b =')\n",
        "  print(sess.run(d, feed_dict={a:[[1,2,3],[1,2,3],[1,2,3]], b:[[1,2,3],[1,2,3],[1,2,3]]}))\n",
        "  print()\n",
        "  print('a*b =')\n",
        "  print(sess.run(e, feed_dict={a:[[1,2,3],[1,2,3],[1,2,3]], b:[[1,2,3],[1,2,3],[1,2,3]]}))\n",
        "  print()\n",
        "  print('a/b =')\n",
        "  print(sess.run(f, feed_dict={a:[[1,2,3],[1,2,3],[1,2,3]], b:[[1,2,3],[1,2,3],[1,2,3]]}))"
      ],
      "metadata": {
        "colab": {
          "base_uri": "https://localhost:8080/"
        },
        "id": "O8Ye3I_7rGxL",
        "outputId": "0144c7a2-80d0-4533-e391-e66126440602"
      },
      "execution_count": 31,
      "outputs": [
        {
          "output_type": "stream",
          "name": "stdout",
          "text": [
            "a+b =\n",
            "[[2 4 6]\n",
            " [2 4 6]\n",
            " [2 4 6]]\n",
            "\n",
            "a-b =\n",
            "[[0 0 0]\n",
            " [0 0 0]\n",
            " [0 0 0]]\n",
            "\n",
            "a*b =\n",
            "[[1 4 9]\n",
            " [1 4 9]\n",
            " [1 4 9]]\n",
            "\n",
            "a/b =\n",
            "[[1. 1. 1.]\n",
            " [1. 1. 1.]\n",
            " [1. 1. 1.]]\n"
          ]
        }
      ]
    }
  ]
}